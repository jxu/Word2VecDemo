{
 "cells": [
  {
   "cell_type": "code",
   "execution_count": 1,
   "id": "progressive-circuit",
   "metadata": {},
   "outputs": [],
   "source": [
    "import numpy as np\n",
    "from numpy.linalg import norm\n",
    "\n",
    "# Read vector model\n",
    "with open(\"wordvecs50k.vec\") as f:\n",
    "    model_lines = f.readlines()\n",
    "\n",
    "N = len(model_lines)\n",
    "vecs = dict()\n",
    "\n",
    "for i in range(N):\n",
    "    line = model_lines[i].strip().split()\n",
    "    word = line[0]\n",
    "    vec = np.array(list(map(float, line[1:])))\n",
    "    #vec /= norm(vec)  # normalize\n",
    "    vecs[word] = vec"
   ]
  },
  {
   "cell_type": "code",
   "execution_count": 16,
   "id": "monetary-insight",
   "metadata": {},
   "outputs": [],
   "source": [
    "# read old vector model\n",
    "import json\n",
    "with open(\"wordvecs77000.json\") as f:\n",
    "    vecs_old = json.load(f)[\"vectors\"]\n",
    "    del vecs_old[\"77000\"]  # entry not a word vector\n",
    "    \n",
    "for k in vecs_old:\n",
    "    vecs_old[k] = np.array(vecs_old[k])"
   ]
  },
  {
   "cell_type": "code",
   "execution_count": 2,
   "id": "parental-municipality",
   "metadata": {},
   "outputs": [
    {
     "name": "stdout",
     "output_type": "stream",
     "text": [
      "ann -2.345\n",
      "cluebot -1.8886\n",
      "alt -1.4804\n",
      "viaf -1.2934\n",
      "afded -1.1482\n",
      "tildes -1.1453\n",
      "sturat -1.0592\n",
      "proded -0.9953\n",
      "giano -0.9953\n",
      "kotbot -0.9784\n",
      "reverted -0.9757\n",
      "stevebaker -0.9579\n",
      "rjensen -0.9505\n",
      "jackofoz -0.9484\n",
      "hcfa -0.9433\n",
      "mnm -0.9418\n",
      "drmies -0.9415\n",
      "enwiki -0.9378\n",
      "bracketbot -0.9339\n",
      "shortsummary -0.9322\n"
     ]
    }
   ],
   "source": [
    "# get words with lowest dim value\n",
    "for k in sorted(vecs, key=lambda k:vecs[k][249])[:20]:\n",
    "    print(k, vecs[k][249])"
   ]
  },
  {
   "cell_type": "code",
   "execution_count": 17,
   "id": "capital-savannah",
   "metadata": {},
   "outputs": [
    {
     "name": "stdout",
     "output_type": "stream",
     "text": [
      "king 0.846306552010454\n",
      "queen 0.7335261779290196\n",
      "prince 0.70112989695682\n",
      "emperor 0.6842812566496257\n",
      "empress 0.676760579698921\n",
      "throne 0.6742607999288218\n",
      "monarch 0.669020535149873\n",
      "heir 0.6616695849405633\n",
      "aragon 0.6599179621530367\n",
      "pharaoh 0.6531471520045711\n"
     ]
    }
   ],
   "source": [
    "# Check 3COSADD word similarity\n",
    "def cos_sim(a, b): return a.dot(b) / (norm(a) * norm(b))\n",
    "\n",
    "def find_similar(vecs, word_orig, word_sub, word_add):\n",
    "    target = vecs[word_orig] - vecs[word_sub] + vecs[word_add]\n",
    "\n",
    "    for k in sorted(vecs, key=lambda k: cos_sim(target, vecs[k]), reverse=True)[:10]:\n",
    "        print(k, cos_sim(target, vecs[k]))\n",
    "        \n",
    "#find_similar(vecs, \"king\", \"man\", \"woman\")\n",
    "find_similar(vecs_old, \"king\", \"man\", \"woman\")"
   ]
  },
  {
   "cell_type": "code",
   "execution_count": null,
   "id": "spare-coverage",
   "metadata": {},
   "outputs": [],
   "source": []
  }
 ],
 "metadata": {
  "kernelspec": {
   "display_name": "Python 3",
   "language": "python",
   "name": "python3"
  },
  "language_info": {
   "codemirror_mode": {
    "name": "ipython",
    "version": 3
   },
   "file_extension": ".py",
   "mimetype": "text/x-python",
   "name": "python",
   "nbconvert_exporter": "python",
   "pygments_lexer": "ipython3",
   "version": "3.8.10"
  }
 },
 "nbformat": 4,
 "nbformat_minor": 5
}
