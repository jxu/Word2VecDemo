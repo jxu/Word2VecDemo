{
 "cells": [
  {
   "cell_type": "code",
   "execution_count": 1,
   "id": "progressive-circuit",
   "metadata": {},
   "outputs": [],
   "source": [
    "import numpy as np\n",
    "from numpy.linalg import norm\n",
    "\n",
    "# Read vector model\n",
    "with open(\"wordvecs50k.vec\") as f:\n",
    "    model_lines = f.readlines()\n",
    "\n",
    "N = len(model_lines)\n",
    "vecs = dict()\n",
    "\n",
    "for i in range(N):\n",
    "    line = model_lines[i].strip().split()\n",
    "    word = line[0]\n",
    "    vec = np.array(list(map(float, line[1:])))\n",
    "    #vec /= norm(vec)  # normalize\n",
    "    vecs[word] = vec"
   ]
  },
  {
   "cell_type": "code",
   "execution_count": 2,
   "id": "parental-municipality",
   "metadata": {},
   "outputs": [
    {
     "name": "stdout",
     "output_type": "stream",
     "text": [
      "ann -2.345\n",
      "cluebot -1.8886\n",
      "alt -1.4804\n",
      "viaf -1.2934\n",
      "afded -1.1482\n",
      "tildes -1.1453\n",
      "sturat -1.0592\n",
      "proded -0.9953\n",
      "giano -0.9953\n",
      "kotbot -0.9784\n",
      "reverted -0.9757\n",
      "stevebaker -0.9579\n",
      "rjensen -0.9505\n",
      "jackofoz -0.9484\n",
      "hcfa -0.9433\n",
      "mnm -0.9418\n",
      "drmies -0.9415\n",
      "enwiki -0.9378\n",
      "bracketbot -0.9339\n",
      "shortsummary -0.9322\n"
     ]
    }
   ],
   "source": [
    "# get words with lowest dim value\n",
    "for k in sorted(vecs, key=lambda k:vecs[k][249])[:20]:\n",
    "    print(k, vecs[k][249])"
   ]
  },
  {
   "cell_type": "code",
   "execution_count": 3,
   "id": "capital-savannah",
   "metadata": {},
   "outputs": [
    {
     "name": "stdout",
     "output_type": "stream",
     "text": [
      "king 0.8539592374184025\n",
      "queen 0.6562503967891941\n",
      "kings 0.595450621264334\n",
      "lynn 0.5691271748575817\n",
      "princess 0.5533240160607099\n",
      "monarch 0.5509679223701061\n",
      "woman 0.5370790603968242\n",
      "burger 0.5342758965247524\n",
      "majesty 0.5295283809180157\n",
      "queens 0.529066482424086\n"
     ]
    }
   ],
   "source": [
    "# Check 3COSADD word similarity\n",
    "def cos_sim(a, b): return a.dot(b) / (norm(a) * norm(b))\n",
    "\n",
    "target = vecs[\"king\"] - vecs[\"man\"] + vecs[\"woman\"]\n",
    "\n",
    "for k in sorted(vecs, key=lambda k: cos_sim(target, vecs[k]), reverse=True)[:10]:\n",
    "    print(k, cos_sim(target, vecs[k]))"
   ]
  },
  {
   "cell_type": "code",
   "execution_count": null,
   "id": "ongoing-snake",
   "metadata": {},
   "outputs": [],
   "source": []
  }
 ],
 "metadata": {
  "kernelspec": {
   "display_name": "Python 3",
   "language": "python",
   "name": "python3"
  },
  "language_info": {
   "codemirror_mode": {
    "name": "ipython",
    "version": 3
   },
   "file_extension": ".py",
   "mimetype": "text/x-python",
   "name": "python",
   "nbconvert_exporter": "python",
   "pygments_lexer": "ipython3",
   "version": "3.8.10"
  }
 },
 "nbformat": 4,
 "nbformat_minor": 5
}
